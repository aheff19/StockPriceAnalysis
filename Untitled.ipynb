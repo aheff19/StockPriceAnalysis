{
 "cells": [
  {
   "cell_type": "code",
   "execution_count": 1,
   "metadata": {},
   "outputs": [],
   "source": [
    "import pandas as pd\n",
    "import numpy as np\n",
    "import seaborn as sns\n",
    "import matplotlib.pyplot as plt\n",
    "%matplotlib inline"
   ]
  },
  {
   "cell_type": "code",
   "execution_count": 4,
   "metadata": {},
   "outputs": [],
   "source": [
    "data = pd.read_csv('AAPL.csv')\n"
   ]
  },
  {
   "cell_type": "code",
   "execution_count": 5,
   "metadata": {},
   "outputs": [
    {
     "data": {
      "text/html": [
       "<div>\n",
       "<style scoped>\n",
       "    .dataframe tbody tr th:only-of-type {\n",
       "        vertical-align: middle;\n",
       "    }\n",
       "\n",
       "    .dataframe tbody tr th {\n",
       "        vertical-align: top;\n",
       "    }\n",
       "\n",
       "    .dataframe thead th {\n",
       "        text-align: right;\n",
       "    }\n",
       "</style>\n",
       "<table border=\"1\" class=\"dataframe\">\n",
       "  <thead>\n",
       "    <tr style=\"text-align: right;\">\n",
       "      <th></th>\n",
       "      <th>Date</th>\n",
       "      <th>Open</th>\n",
       "      <th>High</th>\n",
       "      <th>Low</th>\n",
       "      <th>Close</th>\n",
       "      <th>Adj Close</th>\n",
       "      <th>Volume</th>\n",
       "    </tr>\n",
       "  </thead>\n",
       "  <tbody>\n",
       "    <tr>\n",
       "      <td>0</td>\n",
       "      <td>2014-09-29</td>\n",
       "      <td>100.589996</td>\n",
       "      <td>100.690002</td>\n",
       "      <td>98.040001</td>\n",
       "      <td>99.620003</td>\n",
       "      <td>93.514290</td>\n",
       "      <td>142718700</td>\n",
       "    </tr>\n",
       "    <tr>\n",
       "      <td>1</td>\n",
       "      <td>2014-10-06</td>\n",
       "      <td>99.949997</td>\n",
       "      <td>102.379997</td>\n",
       "      <td>98.309998</td>\n",
       "      <td>100.730003</td>\n",
       "      <td>94.556244</td>\n",
       "      <td>280258200</td>\n",
       "    </tr>\n",
       "    <tr>\n",
       "      <td>2</td>\n",
       "      <td>2014-10-13</td>\n",
       "      <td>101.330002</td>\n",
       "      <td>101.779999</td>\n",
       "      <td>95.180000</td>\n",
       "      <td>97.669998</td>\n",
       "      <td>91.683792</td>\n",
       "      <td>358539800</td>\n",
       "    </tr>\n",
       "    <tr>\n",
       "      <td>3</td>\n",
       "      <td>2014-10-20</td>\n",
       "      <td>98.320000</td>\n",
       "      <td>105.489998</td>\n",
       "      <td>98.220001</td>\n",
       "      <td>105.220001</td>\n",
       "      <td>98.771042</td>\n",
       "      <td>358532900</td>\n",
       "    </tr>\n",
       "    <tr>\n",
       "      <td>4</td>\n",
       "      <td>2014-10-27</td>\n",
       "      <td>104.849998</td>\n",
       "      <td>108.040001</td>\n",
       "      <td>104.699997</td>\n",
       "      <td>108.000000</td>\n",
       "      <td>101.380676</td>\n",
       "      <td>220230600</td>\n",
       "    </tr>\n",
       "  </tbody>\n",
       "</table>\n",
       "</div>"
      ],
      "text/plain": [
       "         Date        Open        High         Low       Close   Adj Close  \\\n",
       "0  2014-09-29  100.589996  100.690002   98.040001   99.620003   93.514290   \n",
       "1  2014-10-06   99.949997  102.379997   98.309998  100.730003   94.556244   \n",
       "2  2014-10-13  101.330002  101.779999   95.180000   97.669998   91.683792   \n",
       "3  2014-10-20   98.320000  105.489998   98.220001  105.220001   98.771042   \n",
       "4  2014-10-27  104.849998  108.040001  104.699997  108.000000  101.380676   \n",
       "\n",
       "      Volume  \n",
       "0  142718700  \n",
       "1  280258200  \n",
       "2  358539800  \n",
       "3  358532900  \n",
       "4  220230600  "
      ]
     },
     "execution_count": 5,
     "metadata": {},
     "output_type": "execute_result"
    }
   ],
   "source": [
    "data.head()"
   ]
  },
  {
   "cell_type": "code",
   "execution_count": null,
   "metadata": {},
   "outputs": [],
   "source": []
  },
  {
   "cell_type": "code",
   "execution_count": null,
   "metadata": {},
   "outputs": [],
   "source": []
  }
 ],
 "metadata": {
  "kernelspec": {
   "display_name": "Python 3",
   "language": "python",
   "name": "python3"
  },
  "language_info": {
   "codemirror_mode": {
    "name": "ipython",
    "version": 3
   },
   "file_extension": ".py",
   "mimetype": "text/x-python",
   "name": "python",
   "nbconvert_exporter": "python",
   "pygments_lexer": "ipython3",
   "version": "3.6.9"
  }
 },
 "nbformat": 4,
 "nbformat_minor": 2
}
